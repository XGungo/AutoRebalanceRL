{
 "cells": [
  {
   "cell_type": "code",
   "execution_count": 72,
   "metadata": {
    "collapsed": true
   },
   "outputs": [],
   "source": [
    "import matplotlib.pyplot as plt\n",
    "from datetime import date\n",
    "import numpy as np\n",
    "import scipy as sp\n",
    "import pandas as pd\n",
    "import util"
   ]
  },
  {
   "cell_type": "code",
   "execution_count": 20,
   "outputs": [
    {
     "data": {
      "text/plain": "   model   return   sharpe   cost   count        start          end\n71   a2c   212.92   0.0523   5.11     161   2011-12-22   2019-10-29\n72   a2c   199.52   0.0494  13.21     407   2011-12-22   2019-10-29\n73   a2c   115.14   0.0115   9.59     550   2011-12-22   2019-10-29\n74   a2c    89.81   0.0013   6.96     523   2011-12-22   2019-10-29\n75   a2c   232.17   0.0545   4.57      31   2011-12-22   2019-10-29\n76   a2c   145.90   0.0242   6.46     635   2011-12-22   2019-10-29\n77   a2c   205.53   0.0448   7.70     491   2011-12-22   2019-10-29\n78   a2c   270.57   0.0571   7.04     225   2011-12-22   2019-10-29\n79   a2c   129.55   0.0181   7.86     590   2011-12-22   2019-10-29\n80   a2c   159.64   0.0311  30.21     863   2011-12-22   2019-10-29\n81   a2c   242.19   0.0539  27.08     365   2011-12-22   2019-10-29\n82   a2c   193.97   0.0473   7.32     377   2011-12-22   2019-10-29\n83   a2c   166.22   0.0342   6.89     595   2011-12-22   2019-10-29\n84   a2c   141.21   0.0235   8.62     639   2011-12-22   2019-10-29\n85   a2c    75.79  -0.0024   3.02     187   2011-12-22   2019-10-29\n86   a2c   212.39   0.0503   6.31     308   2011-12-22   2019-10-29\n87   a2c   221.05   0.0530  11.76     275   2011-12-22   2019-10-29\n88   a2c    97.71   0.0039   8.91     479   2011-12-22   2019-10-29\n89   a2c    87.20   0.0004  31.93     762   2011-12-22   2019-10-29\n90   a2c   214.13   0.0528  14.43     418   2011-12-22   2019-10-29\n91   a2c   123.13   0.0143   7.91     394   2011-12-22   2019-10-29\n92   a2c    95.72   0.0043  10.88     507   2011-12-22   2019-10-29\n93   a2c   177.63   0.0375  17.65     612   2011-12-22   2019-10-29\n94   a2c   167.15   0.0304  10.69     488   2011-12-22   2019-10-29\n95   a2c   122.93   0.0153   6.64     574   2011-12-22   2019-10-29\n96   a2c   239.35   0.0531   5.10     150   2011-12-22   2019-10-29\n97   a2c   143.06   0.0252  27.83     805   2011-12-22   2019-10-29\n98   a2c   230.03   0.0550   5.27      41   2011-12-22   2019-10-29",
      "text/html": "<div>\n<style scoped>\n    .dataframe tbody tr th:only-of-type {\n        vertical-align: middle;\n    }\n\n    .dataframe tbody tr th {\n        vertical-align: top;\n    }\n\n    .dataframe thead th {\n        text-align: right;\n    }\n</style>\n<table border=\"1\" class=\"dataframe\">\n  <thead>\n    <tr style=\"text-align: right;\">\n      <th></th>\n      <th>model</th>\n      <th>return</th>\n      <th>sharpe</th>\n      <th>cost</th>\n      <th>count</th>\n      <th>start</th>\n      <th>end</th>\n    </tr>\n  </thead>\n  <tbody>\n    <tr>\n      <th>71</th>\n      <td>a2c</td>\n      <td>212.92</td>\n      <td>0.0523</td>\n      <td>5.11</td>\n      <td>161</td>\n      <td>2011-12-22</td>\n      <td>2019-10-29</td>\n    </tr>\n    <tr>\n      <th>72</th>\n      <td>a2c</td>\n      <td>199.52</td>\n      <td>0.0494</td>\n      <td>13.21</td>\n      <td>407</td>\n      <td>2011-12-22</td>\n      <td>2019-10-29</td>\n    </tr>\n    <tr>\n      <th>73</th>\n      <td>a2c</td>\n      <td>115.14</td>\n      <td>0.0115</td>\n      <td>9.59</td>\n      <td>550</td>\n      <td>2011-12-22</td>\n      <td>2019-10-29</td>\n    </tr>\n    <tr>\n      <th>74</th>\n      <td>a2c</td>\n      <td>89.81</td>\n      <td>0.0013</td>\n      <td>6.96</td>\n      <td>523</td>\n      <td>2011-12-22</td>\n      <td>2019-10-29</td>\n    </tr>\n    <tr>\n      <th>75</th>\n      <td>a2c</td>\n      <td>232.17</td>\n      <td>0.0545</td>\n      <td>4.57</td>\n      <td>31</td>\n      <td>2011-12-22</td>\n      <td>2019-10-29</td>\n    </tr>\n    <tr>\n      <th>76</th>\n      <td>a2c</td>\n      <td>145.90</td>\n      <td>0.0242</td>\n      <td>6.46</td>\n      <td>635</td>\n      <td>2011-12-22</td>\n      <td>2019-10-29</td>\n    </tr>\n    <tr>\n      <th>77</th>\n      <td>a2c</td>\n      <td>205.53</td>\n      <td>0.0448</td>\n      <td>7.70</td>\n      <td>491</td>\n      <td>2011-12-22</td>\n      <td>2019-10-29</td>\n    </tr>\n    <tr>\n      <th>78</th>\n      <td>a2c</td>\n      <td>270.57</td>\n      <td>0.0571</td>\n      <td>7.04</td>\n      <td>225</td>\n      <td>2011-12-22</td>\n      <td>2019-10-29</td>\n    </tr>\n    <tr>\n      <th>79</th>\n      <td>a2c</td>\n      <td>129.55</td>\n      <td>0.0181</td>\n      <td>7.86</td>\n      <td>590</td>\n      <td>2011-12-22</td>\n      <td>2019-10-29</td>\n    </tr>\n    <tr>\n      <th>80</th>\n      <td>a2c</td>\n      <td>159.64</td>\n      <td>0.0311</td>\n      <td>30.21</td>\n      <td>863</td>\n      <td>2011-12-22</td>\n      <td>2019-10-29</td>\n    </tr>\n    <tr>\n      <th>81</th>\n      <td>a2c</td>\n      <td>242.19</td>\n      <td>0.0539</td>\n      <td>27.08</td>\n      <td>365</td>\n      <td>2011-12-22</td>\n      <td>2019-10-29</td>\n    </tr>\n    <tr>\n      <th>82</th>\n      <td>a2c</td>\n      <td>193.97</td>\n      <td>0.0473</td>\n      <td>7.32</td>\n      <td>377</td>\n      <td>2011-12-22</td>\n      <td>2019-10-29</td>\n    </tr>\n    <tr>\n      <th>83</th>\n      <td>a2c</td>\n      <td>166.22</td>\n      <td>0.0342</td>\n      <td>6.89</td>\n      <td>595</td>\n      <td>2011-12-22</td>\n      <td>2019-10-29</td>\n    </tr>\n    <tr>\n      <th>84</th>\n      <td>a2c</td>\n      <td>141.21</td>\n      <td>0.0235</td>\n      <td>8.62</td>\n      <td>639</td>\n      <td>2011-12-22</td>\n      <td>2019-10-29</td>\n    </tr>\n    <tr>\n      <th>85</th>\n      <td>a2c</td>\n      <td>75.79</td>\n      <td>-0.0024</td>\n      <td>3.02</td>\n      <td>187</td>\n      <td>2011-12-22</td>\n      <td>2019-10-29</td>\n    </tr>\n    <tr>\n      <th>86</th>\n      <td>a2c</td>\n      <td>212.39</td>\n      <td>0.0503</td>\n      <td>6.31</td>\n      <td>308</td>\n      <td>2011-12-22</td>\n      <td>2019-10-29</td>\n    </tr>\n    <tr>\n      <th>87</th>\n      <td>a2c</td>\n      <td>221.05</td>\n      <td>0.0530</td>\n      <td>11.76</td>\n      <td>275</td>\n      <td>2011-12-22</td>\n      <td>2019-10-29</td>\n    </tr>\n    <tr>\n      <th>88</th>\n      <td>a2c</td>\n      <td>97.71</td>\n      <td>0.0039</td>\n      <td>8.91</td>\n      <td>479</td>\n      <td>2011-12-22</td>\n      <td>2019-10-29</td>\n    </tr>\n    <tr>\n      <th>89</th>\n      <td>a2c</td>\n      <td>87.20</td>\n      <td>0.0004</td>\n      <td>31.93</td>\n      <td>762</td>\n      <td>2011-12-22</td>\n      <td>2019-10-29</td>\n    </tr>\n    <tr>\n      <th>90</th>\n      <td>a2c</td>\n      <td>214.13</td>\n      <td>0.0528</td>\n      <td>14.43</td>\n      <td>418</td>\n      <td>2011-12-22</td>\n      <td>2019-10-29</td>\n    </tr>\n    <tr>\n      <th>91</th>\n      <td>a2c</td>\n      <td>123.13</td>\n      <td>0.0143</td>\n      <td>7.91</td>\n      <td>394</td>\n      <td>2011-12-22</td>\n      <td>2019-10-29</td>\n    </tr>\n    <tr>\n      <th>92</th>\n      <td>a2c</td>\n      <td>95.72</td>\n      <td>0.0043</td>\n      <td>10.88</td>\n      <td>507</td>\n      <td>2011-12-22</td>\n      <td>2019-10-29</td>\n    </tr>\n    <tr>\n      <th>93</th>\n      <td>a2c</td>\n      <td>177.63</td>\n      <td>0.0375</td>\n      <td>17.65</td>\n      <td>612</td>\n      <td>2011-12-22</td>\n      <td>2019-10-29</td>\n    </tr>\n    <tr>\n      <th>94</th>\n      <td>a2c</td>\n      <td>167.15</td>\n      <td>0.0304</td>\n      <td>10.69</td>\n      <td>488</td>\n      <td>2011-12-22</td>\n      <td>2019-10-29</td>\n    </tr>\n    <tr>\n      <th>95</th>\n      <td>a2c</td>\n      <td>122.93</td>\n      <td>0.0153</td>\n      <td>6.64</td>\n      <td>574</td>\n      <td>2011-12-22</td>\n      <td>2019-10-29</td>\n    </tr>\n    <tr>\n      <th>96</th>\n      <td>a2c</td>\n      <td>239.35</td>\n      <td>0.0531</td>\n      <td>5.10</td>\n      <td>150</td>\n      <td>2011-12-22</td>\n      <td>2019-10-29</td>\n    </tr>\n    <tr>\n      <th>97</th>\n      <td>a2c</td>\n      <td>143.06</td>\n      <td>0.0252</td>\n      <td>27.83</td>\n      <td>805</td>\n      <td>2011-12-22</td>\n      <td>2019-10-29</td>\n    </tr>\n    <tr>\n      <th>98</th>\n      <td>a2c</td>\n      <td>230.03</td>\n      <td>0.0550</td>\n      <td>5.27</td>\n      <td>41</td>\n      <td>2011-12-22</td>\n      <td>2019-10-29</td>\n    </tr>\n  </tbody>\n</table>\n</div>"
     },
     "execution_count": 20,
     "metadata": {},
     "output_type": "execute_result"
    }
   ],
   "source": [
    "df = pd.read_csv('results.csv')\n",
    "df[-28:]\n"
   ],
   "metadata": {
    "collapsed": false,
    "pycharm": {
     "name": "#%%\n"
    }
   }
  },
  {
   "cell_type": "code",
   "execution_count": 24,
   "outputs": [
    {
     "data": {
      "text/plain": "[<matplotlib.lines.Line2D at 0x7faff66a6cd0>]"
     },
     "execution_count": 24,
     "metadata": {},
     "output_type": "execute_result"
    },
    {
     "data": {
      "text/plain": "<Figure size 432x288 with 1 Axes>",
      "image/png": "[encoded data removed]"
     },
     "metadata": {
      "needs_background": "light"
     },
     "output_type": "display_data"
    }
   ],
   "source": [
    "plt.plot(df[-60:][' return'])\n",
    "# plt.plot(df[-100:][' cost'])\n",
    "plt.plot(df[-60:][' return'] - df[-60:][' cost'])\n",
    "\n"
   ],
   "metadata": {
    "collapsed": false,
    "pycharm": {
     "name": "#%%\n"
    }
   }
  },
  {
   "cell_type": "code",
   "execution_count": 32,
   "outputs": [],
   "source": [
    "df1 = pd.read_csv('data/1990_1999_daily_data.csv', index_col='Dates')[['SPX Index', 'SHCOMP Index', 'SENSEX Index', 'MXLA Index']]\n",
    "df2 = pd.read_csv('data/2000_2019_daily_data.csv', index_col=\"Dates\")[['SPX Index', 'SHCOMP Index', 'SENSEX Index', 'MXLA Index']]\n"
   ],
   "metadata": {
    "collapsed": false,
    "pycharm": {
     "name": "#%%\n"
    }
   }
  },
  {
   "cell_type": "code",
   "execution_count": 36,
   "outputs": [],
   "source": [
    "df3 = pd.concat([df1,df2], ignore_index=False)\n"
   ],
   "metadata": {
    "collapsed": false,
    "pycharm": {
     "name": "#%%\n"
    }
   }
  },
  {
   "cell_type": "code",
   "execution_count": 39,
   "outputs": [],
   "source": [],
   "metadata": {
    "collapsed": false,
    "pycharm": {
     "name": "#%%\n"
    }
   }
  },
  {
   "cell_type": "code",
   "execution_count": 100,
   "outputs": [
    {
     "ename": "TypeError",
     "evalue": "Field elements must be 2- or 3-tuples, got ''dt.''",
     "output_type": "error",
     "traceback": [
      "\u001B[0;31m---------------------------------------------------------------------------\u001B[0m",
      "\u001B[0;31mTypeError\u001B[0m                                 Traceback (most recent call last)",
      "\u001B[0;32m/var/folders/nn/79dyzw6s3899zhvqyv0g57q00000gn/T/ipykernel_33894/1381201492.py\u001B[0m in \u001B[0;36m<module>\u001B[0;34m\u001B[0m\n\u001B[0;32m----> 1\u001B[0;31m \u001B[0mdf\u001B[0m \u001B[0;34m=\u001B[0m \u001B[0mpd\u001B[0m\u001B[0;34m.\u001B[0m\u001B[0mread_csv\u001B[0m\u001B[0;34m(\u001B[0m\u001B[0;34m\"data/1990_2019_daily_data.csv\"\u001B[0m\u001B[0;34m,\u001B[0m \u001B[0mindex_col\u001B[0m\u001B[0;34m=\u001B[0m\u001B[0;34m'Dates'\u001B[0m\u001B[0;34m,\u001B[0m \u001B[0mdtype\u001B[0m\u001B[0;34m=\u001B[0m\u001B[0;34m[\u001B[0m\u001B[0;34m'dt.'\u001B[0m\u001B[0;34m]\u001B[0m\u001B[0;34m)\u001B[0m\u001B[0;34m\u001B[0m\u001B[0;34m\u001B[0m\u001B[0m\n\u001B[0m\u001B[1;32m      2\u001B[0m \u001B[0mdf\u001B[0m\u001B[0;34m.\u001B[0m\u001B[0mindex\u001B[0m \u001B[0;34m=\u001B[0m \u001B[0mpd\u001B[0m\u001B[0;34m.\u001B[0m\u001B[0mto_datetime\u001B[0m\u001B[0;34m(\u001B[0m\u001B[0mdf\u001B[0m\u001B[0;34m.\u001B[0m\u001B[0mindex\u001B[0m\u001B[0;34m)\u001B[0m\u001B[0;34m\u001B[0m\u001B[0;34m\u001B[0m\u001B[0m\n\u001B[1;32m      3\u001B[0m \u001B[0mdf\u001B[0m \u001B[0;34m=\u001B[0m \u001B[0mdf\u001B[0m\u001B[0;34m.\u001B[0m\u001B[0msort_index\u001B[0m\u001B[0;34m(\u001B[0m\u001B[0;34m)\u001B[0m\u001B[0;34m\u001B[0m\u001B[0;34m\u001B[0m\u001B[0m\n\u001B[1;32m      4\u001B[0m \u001B[0;34m\u001B[0m\u001B[0m\n",
      "\u001B[0;32m~/opt/anaconda3/envs/pythonProject/lib/python3.7/site-packages/pandas/util/_decorators.py\u001B[0m in \u001B[0;36mwrapper\u001B[0;34m(*args, **kwargs)\u001B[0m\n\u001B[1;32m    309\u001B[0m                     \u001B[0mstacklevel\u001B[0m\u001B[0;34m=\u001B[0m\u001B[0mstacklevel\u001B[0m\u001B[0;34m,\u001B[0m\u001B[0;34m\u001B[0m\u001B[0;34m\u001B[0m\u001B[0m\n\u001B[1;32m    310\u001B[0m                 )\n\u001B[0;32m--> 311\u001B[0;31m             \u001B[0;32mreturn\u001B[0m \u001B[0mfunc\u001B[0m\u001B[0;34m(\u001B[0m\u001B[0;34m*\u001B[0m\u001B[0margs\u001B[0m\u001B[0;34m,\u001B[0m \u001B[0;34m**\u001B[0m\u001B[0mkwargs\u001B[0m\u001B[0;34m)\u001B[0m\u001B[0;34m\u001B[0m\u001B[0;34m\u001B[0m\u001B[0m\n\u001B[0m\u001B[1;32m    312\u001B[0m \u001B[0;34m\u001B[0m\u001B[0m\n\u001B[1;32m    313\u001B[0m         \u001B[0;32mreturn\u001B[0m \u001B[0mwrapper\u001B[0m\u001B[0;34m\u001B[0m\u001B[0;34m\u001B[0m\u001B[0m\n",
      "\u001B[0;32m~/opt/anaconda3/envs/pythonProject/lib/python3.7/site-packages/pandas/io/parsers/readers.py\u001B[0m in \u001B[0;36mread_csv\u001B[0;34m(filepath_or_buffer, sep, delimiter, header, names, index_col, usecols, squeeze, prefix, mangle_dupe_cols, dtype, engine, converters, true_values, false_values, skipinitialspace, skiprows, skipfooter, nrows, na_values, keep_default_na, na_filter, verbose, skip_blank_lines, parse_dates, infer_datetime_format, keep_date_col, date_parser, dayfirst, cache_dates, iterator, chunksize, compression, thousands, decimal, lineterminator, quotechar, quoting, doublequote, escapechar, comment, encoding, encoding_errors, dialect, error_bad_lines, warn_bad_lines, on_bad_lines, delim_whitespace, low_memory, memory_map, float_precision, storage_options)\u001B[0m\n\u001B[1;32m    584\u001B[0m     \u001B[0mkwds\u001B[0m\u001B[0;34m.\u001B[0m\u001B[0mupdate\u001B[0m\u001B[0;34m(\u001B[0m\u001B[0mkwds_defaults\u001B[0m\u001B[0;34m)\u001B[0m\u001B[0;34m\u001B[0m\u001B[0;34m\u001B[0m\u001B[0m\n\u001B[1;32m    585\u001B[0m \u001B[0;34m\u001B[0m\u001B[0m\n\u001B[0;32m--> 586\u001B[0;31m     \u001B[0;32mreturn\u001B[0m \u001B[0m_read\u001B[0m\u001B[0;34m(\u001B[0m\u001B[0mfilepath_or_buffer\u001B[0m\u001B[0;34m,\u001B[0m \u001B[0mkwds\u001B[0m\u001B[0;34m)\u001B[0m\u001B[0;34m\u001B[0m\u001B[0;34m\u001B[0m\u001B[0m\n\u001B[0m\u001B[1;32m    587\u001B[0m \u001B[0;34m\u001B[0m\u001B[0m\n\u001B[1;32m    588\u001B[0m \u001B[0;34m\u001B[0m\u001B[0m\n",
      "\u001B[0;32m~/opt/anaconda3/envs/pythonProject/lib/python3.7/site-packages/pandas/io/parsers/readers.py\u001B[0m in \u001B[0;36m_read\u001B[0;34m(filepath_or_buffer, kwds)\u001B[0m\n\u001B[1;32m    480\u001B[0m \u001B[0;34m\u001B[0m\u001B[0m\n\u001B[1;32m    481\u001B[0m     \u001B[0;31m# Create the parser.\u001B[0m\u001B[0;34m\u001B[0m\u001B[0;34m\u001B[0m\u001B[0;34m\u001B[0m\u001B[0m\n\u001B[0;32m--> 482\u001B[0;31m     \u001B[0mparser\u001B[0m \u001B[0;34m=\u001B[0m \u001B[0mTextFileReader\u001B[0m\u001B[0;34m(\u001B[0m\u001B[0mfilepath_or_buffer\u001B[0m\u001B[0;34m,\u001B[0m \u001B[0;34m**\u001B[0m\u001B[0mkwds\u001B[0m\u001B[0;34m)\u001B[0m\u001B[0;34m\u001B[0m\u001B[0;34m\u001B[0m\u001B[0m\n\u001B[0m\u001B[1;32m    483\u001B[0m \u001B[0;34m\u001B[0m\u001B[0m\n\u001B[1;32m    484\u001B[0m     \u001B[0;32mif\u001B[0m \u001B[0mchunksize\u001B[0m \u001B[0;32mor\u001B[0m \u001B[0miterator\u001B[0m\u001B[0;34m:\u001B[0m\u001B[0;34m\u001B[0m\u001B[0;34m\u001B[0m\u001B[0m\n",
      "\u001B[0;32m~/opt/anaconda3/envs/pythonProject/lib/python3.7/site-packages/pandas/io/parsers/readers.py\u001B[0m in \u001B[0;36m__init__\u001B[0;34m(self, f, engine, **kwds)\u001B[0m\n\u001B[1;32m    809\u001B[0m             \u001B[0mself\u001B[0m\u001B[0;34m.\u001B[0m\u001B[0moptions\u001B[0m\u001B[0;34m[\u001B[0m\u001B[0;34m\"has_index_names\"\u001B[0m\u001B[0;34m]\u001B[0m \u001B[0;34m=\u001B[0m \u001B[0mkwds\u001B[0m\u001B[0;34m[\u001B[0m\u001B[0;34m\"has_index_names\"\u001B[0m\u001B[0;34m]\u001B[0m\u001B[0;34m\u001B[0m\u001B[0;34m\u001B[0m\u001B[0m\n\u001B[1;32m    810\u001B[0m \u001B[0;34m\u001B[0m\u001B[0m\n\u001B[0;32m--> 811\u001B[0;31m         \u001B[0mself\u001B[0m\u001B[0;34m.\u001B[0m\u001B[0m_engine\u001B[0m \u001B[0;34m=\u001B[0m \u001B[0mself\u001B[0m\u001B[0;34m.\u001B[0m\u001B[0m_make_engine\u001B[0m\u001B[0;34m(\u001B[0m\u001B[0mself\u001B[0m\u001B[0;34m.\u001B[0m\u001B[0mengine\u001B[0m\u001B[0;34m)\u001B[0m\u001B[0;34m\u001B[0m\u001B[0;34m\u001B[0m\u001B[0m\n\u001B[0m\u001B[1;32m    812\u001B[0m \u001B[0;34m\u001B[0m\u001B[0m\n\u001B[1;32m    813\u001B[0m     \u001B[0;32mdef\u001B[0m \u001B[0mclose\u001B[0m\u001B[0;34m(\u001B[0m\u001B[0mself\u001B[0m\u001B[0;34m)\u001B[0m\u001B[0;34m:\u001B[0m\u001B[0;34m\u001B[0m\u001B[0;34m\u001B[0m\u001B[0m\n",
      "\u001B[0;32m~/opt/anaconda3/envs/pythonProject/lib/python3.7/site-packages/pandas/io/parsers/readers.py\u001B[0m in \u001B[0;36m_make_engine\u001B[0;34m(self, engine)\u001B[0m\n\u001B[1;32m   1038\u001B[0m             )\n\u001B[1;32m   1039\u001B[0m         \u001B[0;31m# error: Too many arguments for \"ParserBase\"\u001B[0m\u001B[0;34m\u001B[0m\u001B[0;34m\u001B[0m\u001B[0;34m\u001B[0m\u001B[0m\n\u001B[0;32m-> 1040\u001B[0;31m         \u001B[0;32mreturn\u001B[0m \u001B[0mmapping\u001B[0m\u001B[0;34m[\u001B[0m\u001B[0mengine\u001B[0m\u001B[0;34m]\u001B[0m\u001B[0;34m(\u001B[0m\u001B[0mself\u001B[0m\u001B[0;34m.\u001B[0m\u001B[0mf\u001B[0m\u001B[0;34m,\u001B[0m \u001B[0;34m**\u001B[0m\u001B[0mself\u001B[0m\u001B[0;34m.\u001B[0m\u001B[0moptions\u001B[0m\u001B[0;34m)\u001B[0m  \u001B[0;31m# type: ignore[call-arg]\u001B[0m\u001B[0;34m\u001B[0m\u001B[0;34m\u001B[0m\u001B[0m\n\u001B[0m\u001B[1;32m   1041\u001B[0m \u001B[0;34m\u001B[0m\u001B[0m\n\u001B[1;32m   1042\u001B[0m     \u001B[0;32mdef\u001B[0m \u001B[0m_failover_to_python\u001B[0m\u001B[0;34m(\u001B[0m\u001B[0mself\u001B[0m\u001B[0;34m)\u001B[0m\u001B[0;34m:\u001B[0m\u001B[0;34m\u001B[0m\u001B[0;34m\u001B[0m\u001B[0m\n",
      "\u001B[0;32m~/opt/anaconda3/envs/pythonProject/lib/python3.7/site-packages/pandas/io/parsers/c_parser_wrapper.py\u001B[0m in \u001B[0;36m__init__\u001B[0;34m(self, src, **kwds)\u001B[0m\n\u001B[1;32m     65\u001B[0m             \u001B[0mkwds\u001B[0m\u001B[0;34m.\u001B[0m\u001B[0mpop\u001B[0m\u001B[0;34m(\u001B[0m\u001B[0mkey\u001B[0m\u001B[0;34m,\u001B[0m \u001B[0;32mNone\u001B[0m\u001B[0;34m)\u001B[0m\u001B[0;34m\u001B[0m\u001B[0;34m\u001B[0m\u001B[0m\n\u001B[1;32m     66\u001B[0m \u001B[0;34m\u001B[0m\u001B[0m\n\u001B[0;32m---> 67\u001B[0;31m         \u001B[0mkwds\u001B[0m\u001B[0;34m[\u001B[0m\u001B[0;34m\"dtype\"\u001B[0m\u001B[0;34m]\u001B[0m \u001B[0;34m=\u001B[0m \u001B[0mensure_dtype_objs\u001B[0m\u001B[0;34m(\u001B[0m\u001B[0mkwds\u001B[0m\u001B[0;34m.\u001B[0m\u001B[0mget\u001B[0m\u001B[0;34m(\u001B[0m\u001B[0;34m\"dtype\"\u001B[0m\u001B[0;34m,\u001B[0m \u001B[0;32mNone\u001B[0m\u001B[0;34m)\u001B[0m\u001B[0;34m)\u001B[0m\u001B[0;34m\u001B[0m\u001B[0;34m\u001B[0m\u001B[0m\n\u001B[0m\u001B[1;32m     68\u001B[0m         \u001B[0;32mtry\u001B[0m\u001B[0;34m:\u001B[0m\u001B[0;34m\u001B[0m\u001B[0;34m\u001B[0m\u001B[0m\n\u001B[1;32m     69\u001B[0m             \u001B[0mself\u001B[0m\u001B[0;34m.\u001B[0m\u001B[0m_reader\u001B[0m \u001B[0;34m=\u001B[0m \u001B[0mparsers\u001B[0m\u001B[0;34m.\u001B[0m\u001B[0mTextReader\u001B[0m\u001B[0;34m(\u001B[0m\u001B[0mself\u001B[0m\u001B[0;34m.\u001B[0m\u001B[0mhandles\u001B[0m\u001B[0;34m.\u001B[0m\u001B[0mhandle\u001B[0m\u001B[0;34m,\u001B[0m \u001B[0;34m**\u001B[0m\u001B[0mkwds\u001B[0m\u001B[0;34m)\u001B[0m\u001B[0;34m\u001B[0m\u001B[0;34m\u001B[0m\u001B[0m\n",
      "\u001B[0;32m~/opt/anaconda3/envs/pythonProject/lib/python3.7/site-packages/pandas/io/parsers/c_parser_wrapper.py\u001B[0m in \u001B[0;36mensure_dtype_objs\u001B[0;34m(dtype)\u001B[0m\n\u001B[1;32m    407\u001B[0m         \u001B[0mdtype\u001B[0m \u001B[0;34m=\u001B[0m \u001B[0;34m{\u001B[0m\u001B[0mk\u001B[0m\u001B[0;34m:\u001B[0m \u001B[0mpandas_dtype\u001B[0m\u001B[0;34m(\u001B[0m\u001B[0mdtype\u001B[0m\u001B[0;34m[\u001B[0m\u001B[0mk\u001B[0m\u001B[0;34m]\u001B[0m\u001B[0;34m)\u001B[0m \u001B[0;32mfor\u001B[0m \u001B[0mk\u001B[0m \u001B[0;32min\u001B[0m \u001B[0mdtype\u001B[0m\u001B[0;34m}\u001B[0m\u001B[0;34m\u001B[0m\u001B[0;34m\u001B[0m\u001B[0m\n\u001B[1;32m    408\u001B[0m     \u001B[0;32melif\u001B[0m \u001B[0mdtype\u001B[0m \u001B[0;32mis\u001B[0m \u001B[0;32mnot\u001B[0m \u001B[0;32mNone\u001B[0m\u001B[0;34m:\u001B[0m\u001B[0;34m\u001B[0m\u001B[0;34m\u001B[0m\u001B[0m\n\u001B[0;32m--> 409\u001B[0;31m         \u001B[0mdtype\u001B[0m \u001B[0;34m=\u001B[0m \u001B[0mpandas_dtype\u001B[0m\u001B[0;34m(\u001B[0m\u001B[0mdtype\u001B[0m\u001B[0;34m)\u001B[0m\u001B[0;34m\u001B[0m\u001B[0;34m\u001B[0m\u001B[0m\n\u001B[0m\u001B[1;32m    410\u001B[0m     \u001B[0;32mreturn\u001B[0m \u001B[0mdtype\u001B[0m\u001B[0;34m\u001B[0m\u001B[0;34m\u001B[0m\u001B[0m\n",
      "\u001B[0;32m~/opt/anaconda3/envs/pythonProject/lib/python3.7/site-packages/pandas/core/dtypes/common.py\u001B[0m in \u001B[0;36mpandas_dtype\u001B[0;34m(dtype)\u001B[0m\n\u001B[1;32m   1774\u001B[0m     \u001B[0;31m# raise a consistent TypeError if failed\u001B[0m\u001B[0;34m\u001B[0m\u001B[0;34m\u001B[0m\u001B[0;34m\u001B[0m\u001B[0m\n\u001B[1;32m   1775\u001B[0m     \u001B[0;32mtry\u001B[0m\u001B[0;34m:\u001B[0m\u001B[0;34m\u001B[0m\u001B[0;34m\u001B[0m\u001B[0m\n\u001B[0;32m-> 1776\u001B[0;31m         \u001B[0mnpdtype\u001B[0m \u001B[0;34m=\u001B[0m \u001B[0mnp\u001B[0m\u001B[0;34m.\u001B[0m\u001B[0mdtype\u001B[0m\u001B[0;34m(\u001B[0m\u001B[0mdtype\u001B[0m\u001B[0;34m)\u001B[0m\u001B[0;34m\u001B[0m\u001B[0;34m\u001B[0m\u001B[0m\n\u001B[0m\u001B[1;32m   1777\u001B[0m     \u001B[0;32mexcept\u001B[0m \u001B[0mSyntaxError\u001B[0m \u001B[0;32mas\u001B[0m \u001B[0merr\u001B[0m\u001B[0;34m:\u001B[0m\u001B[0;34m\u001B[0m\u001B[0;34m\u001B[0m\u001B[0m\n\u001B[1;32m   1778\u001B[0m         \u001B[0;31m# np.dtype uses `eval` which can raise SyntaxError\u001B[0m\u001B[0;34m\u001B[0m\u001B[0;34m\u001B[0m\u001B[0;34m\u001B[0m\u001B[0m\n",
      "\u001B[0;31mTypeError\u001B[0m: Field elements must be 2- or 3-tuples, got ''dt.''"
     ]
    }
   ],
   "source": [
    "df = pd.read_csv(\"data/1990_2019_daily_data.csv\", index_col='Dates')\n",
    "df.index = pd.to_datetime(df.index)\n",
    "df = df.sort_index()\n",
    "\n",
    "\n"
   ],
   "metadata": {
    "collapsed": false,
    "pycharm": {
     "name": "#%%\n"
    }
   }
  },
  {
   "cell_type": "code",
   "execution_count": 104,
   "outputs": [],
   "source": [
    "alpha = 1\n",
    "targets = []\n",
    "def utility(weights):\n",
    "    return -weights.T@mean + 0.5 * alpha * weights.T @ cov @ weights\n",
    "for idx, tick in enumerate(df.iloc[500:].iterrows()):\n",
    "\n",
    "    past500 = df.iloc[idx:idx+500].to_numpy()\n",
    "    growth = util.daily_growth(past500)\n",
    "    mean = np.mean(growth, axis=0)*256\n",
    "    cov = np.cov(growth.T)*256\n",
    "    x0 = np.ones(4) / 4\n",
    "    cons = ({'type': 'eq', 'fun': lambda x: x.sum() - 1.0})\n",
    "    bnds = [(0, 1)] * 4\n",
    "    target_ratio = sp.optimize.minimize(utility, x0, method='SLSQP', bounds=bnds, constraints=cons)['x']\n",
    "    targets.append(target_ratio)"
   ],
   "metadata": {
    "collapsed": false,
    "pycharm": {
     "name": "#%%\n"
    }
   }
  },
  {
   "cell_type": "code",
   "execution_count": 108,
   "outputs": [],
   "source": [
    "targets = np.array(targets)"
   ],
   "metadata": {
    "collapsed": false,
    "pycharm": {
     "name": "#%%\n"
    }
   }
  },
  {
   "cell_type": "code",
   "execution_count": 112,
   "outputs": [
    {
     "name": "stderr",
     "output_type": "stream",
     "text": [
      "/Users/mcc_311/opt/anaconda3/envs/pythonProject/lib/python3.7/site-packages/pandas/core/frame.py:3673: SettingWithCopyWarning: \n",
      "A value is trying to be set on a copy of a slice from a DataFrame.\n",
      "Try using .loc[row_indexer,col_indexer] = value instead\n",
      "\n",
      "See the caveats in the documentation: https://pandas.pydata.org/pandas-docs/stable/user_guide/indexing.html#returning-a-view-versus-a-copy\n",
      "  self[col] = igetitem(value, i)\n"
     ]
    }
   ],
   "source": [
    "new_df = df.iloc[500:]\n",
    "new_df[['tg1', 'tg2', 'tg3', 'tg4']] = targets"
   ],
   "metadata": {
    "collapsed": false,
    "pycharm": {
     "name": "#%%\n"
    }
   }
  },
  {
   "cell_type": "code",
   "execution_count": 114,
   "outputs": [],
   "source": [
    "new_df.to_csv(\"data/1992_2019_daily_data_with_target.csv\")"
   ],
   "metadata": {
    "collapsed": false,
    "pycharm": {
     "name": "#%%\n"
    }
   }
  },
  {
   "cell_type": "code",
   "execution_count": 115,
   "outputs": [
    {
     "data": {
      "text/plain": "array([[4.44089210e-16, 6.44429405e-01, 2.93213723e-01, 6.23568716e-02],\n       [0.00000000e+00, 6.44447597e-01, 2.43179177e-01, 1.12373227e-01],\n       [0.00000000e+00, 6.01674520e-01, 2.03243118e-01, 1.95082362e-01],\n       ...,\n       [4.92958471e-01, 0.00000000e+00, 5.07041529e-01, 0.00000000e+00],\n       [5.50003465e-01, 1.30483731e-16, 4.49996535e-01, 0.00000000e+00],\n       [3.65314793e-01, 2.70616862e-16, 6.34685207e-01, 9.54097912e-17]])"
     },
     "execution_count": 115,
     "metadata": {},
     "output_type": "execute_result"
    }
   ],
   "source": [
    "targets = new_df[['tg1', 'tg2', 'tg3', 'tg4']].to_numpy()\n",
    "targets"
   ],
   "metadata": {
    "collapsed": false,
    "pycharm": {
     "name": "#%%\n"
    }
   }
  },
  {
   "cell_type": "code",
   "execution_count": 116,
   "outputs": [],
   "source": [
    "covs = []\n",
    "means = []\n",
    "for idx, tick in enumerate(df.iloc[500:].iterrows()):\n",
    "\n",
    "    past500 = df.iloc[idx:idx+500].to_numpy()\n",
    "    growth = util.daily_growth(past500)\n",
    "    mean = np.mean(growth, axis=0)*256\n",
    "    cov = np.cov(growth.T)*256\n",
    "    covs.append(cov)\n",
    "    means.append(mean)\n",
    "\n"
   ],
   "metadata": {
    "collapsed": false,
    "pycharm": {
     "name": "#%%\n"
    }
   }
  },
  {
   "cell_type": "code",
   "execution_count": 117,
   "outputs": [],
   "source": [
    "means = np.array(means)\n",
    "covs = np.array(covs)"
   ],
   "metadata": {
    "collapsed": false,
    "pycharm": {
     "name": "#%%\n"
    }
   }
  },
  {
   "cell_type": "code",
   "execution_count": 121,
   "outputs": [],
   "source": [
    "np.save('data/means.npy', means)\n",
    "np.save('data/cov.npy', covs)"
   ],
   "metadata": {
    "collapsed": false,
    "pycharm": {
     "name": "#%%\n"
    }
   }
  },
  {
   "cell_type": "code",
   "execution_count": 122,
   "outputs": [],
   "source": [
    "cov = np.load('data/cov.npy')"
   ],
   "metadata": {
    "collapsed": false,
    "pycharm": {
     "name": "#%%\n"
    }
   }
  },
  {
   "cell_type": "code",
   "execution_count": 127,
   "outputs": [
    {
     "data": {
      "text/plain": "0.056293455458233395"
     },
     "execution_count": 127,
     "metadata": {},
     "output_type": "execute_result"
    }
   ],
   "source": [
    "cov[0].mean()"
   ],
   "metadata": {
    "collapsed": false,
    "pycharm": {
     "name": "#%%\n"
    }
   }
  },
  {
   "cell_type": "code",
   "execution_count": null,
   "outputs": [],
   "source": [],
   "metadata": {
    "collapsed": false,
    "pycharm": {
     "name": "#%%\n"
    }
   }
  }
 ],
 "metadata": {
  "kernelspec": {
   "display_name": "Python 3",
   "language": "python",
   "name": "python3"
  },
  "language_info": {
   "codemirror_mode": {
    "name": "ipython",
    "version": 2
   },
   "file_extension": ".py",
   "mimetype": "text/x-python",
   "name": "python",
   "nbconvert_exporter": "python",
   "pygments_lexer": "ipython2",
   "version": "2.7.6"
  }
 },
 "nbformat": 4,
 "nbformat_minor": 0
}