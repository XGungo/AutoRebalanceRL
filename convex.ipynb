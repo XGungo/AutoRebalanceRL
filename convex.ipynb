{
 "cells": [
  {
   "cell_type": "code",
   "execution_count": 3,
   "metadata": {
    "collapsed": true
   },
   "outputs": [],
   "source": [
    "import numpy as np\n",
    "import scipy as sp\n",
    "import pandas as pd\n",
    "import util"
   ]
  },
  {
   "cell_type": "code",
   "execution_count": 4,
   "outputs": [],
   "source": [
    "test_df = pd.read_csv('data/2010_2019_daily_data.csv')\n",
    "target = np.array([.4405, .2694, .1375, .1526])\n",
    "test_df = test_df[['SPX Index', 'SHCOMP Index', 'SENSEX Index', 'MXLA Index']].to_numpy()\n",
    "test_df = test_df[1828:]\n",
    "Dates = pd.read_csv('data/2010_2019_daily_data.csv')['Dates']\n",
    "start_day = Dates[1828]\n",
    "end_day = Dates[len(Dates)-1]\n",
    "\n",
    "daily_growth = util.daily_growth(test_df)\n"
   ],
   "metadata": {
    "collapsed": false,
    "pycharm": {
     "name": "#%%\n"
    }
   }
  },
  {
   "cell_type": "code",
   "execution_count": 10,
   "outputs": [],
   "source": [
    "mu=np.mean(daily_growth, axis=0)*252\n",
    "cov=np.cov(daily_growth.T)*252\n",
    "alpha = 1\n",
    "def utility(w):\n",
    "    return w @ mu - alpha / 2 * w.T@cov@w"
   ],
   "metadata": {
    "collapsed": false,
    "pycharm": {
     "name": "#%%\n"
    }
   }
  },
  {
   "cell_type": "code",
   "execution_count": 12,
   "outputs": [
    {
     "data": {
      "text/plain": "0.058592046964779765"
     },
     "execution_count": 12,
     "metadata": {},
     "output_type": "execute_result"
    }
   ],
   "source": [
    "utility(np.array([.2,.3,.1,.4]))"
   ],
   "metadata": {
    "collapsed": false,
    "pycharm": {
     "name": "#%%\n"
    }
   }
  },
  {
   "cell_type": "code",
   "execution_count": 25,
   "outputs": [],
   "source": [
    "x0 = np.ones(4) / 4\n",
    "cons = ({'type': 'eq', 'fun': lambda x: x.sum() - 1.0})\n",
    "bnds = [(0, 1)] * 4\n",
    "w = sp.optimize.minimize(utility, x0, method='SLSQP', bounds=bnds, constraints=cons)['x']"
   ],
   "metadata": {
    "collapsed": false,
    "pycharm": {
     "name": "#%%\n"
    }
   }
  },
  {
   "cell_type": "code",
   "execution_count": 26,
   "outputs": [
    {
     "data": {
      "text/plain": "array([8.88178420e-16, 1.00000000e+00, 2.47244211e-16, 0.00000000e+00])"
     },
     "execution_count": 26,
     "metadata": {},
     "output_type": "execute_result"
    }
   ],
   "source": [
    "w"
   ],
   "metadata": {
    "collapsed": false,
    "pycharm": {
     "name": "#%%\n"
    }
   }
  },
  {
   "cell_type": "code",
   "execution_count": 27,
   "outputs": [
    {
     "data": {
      "text/plain": "array([[0.01653424, 0.00287652, 0.00214251, 0.01042179],\n       [0.00287652, 0.02552402, 0.00367652, 0.00401759],\n       [0.00214251, 0.00367652, 0.01382135, 0.00276823],\n       [0.01042179, 0.00401759, 0.00276823, 0.03989487]])"
     },
     "execution_count": 27,
     "metadata": {},
     "output_type": "execute_result"
    }
   ],
   "source": [
    "cov\n"
   ],
   "metadata": {
    "collapsed": false,
    "pycharm": {
     "name": "#%%\n"
    }
   }
  },
  {
   "cell_type": "code",
   "execution_count": null,
   "outputs": [],
   "source": [],
   "metadata": {
    "collapsed": false,
    "pycharm": {
     "name": "#%%\n"
    }
   }
  }
 ],
 "metadata": {
  "kernelspec": {
   "display_name": "Python 3",
   "language": "python",
   "name": "python3"
  },
  "language_info": {
   "codemirror_mode": {
    "name": "ipython",
    "version": 2
   },
   "file_extension": ".py",
   "mimetype": "text/x-python",
   "name": "python",
   "nbconvert_exporter": "python",
   "pygments_lexer": "ipython2",
   "version": "2.7.6"
  }
 },
 "nbformat": 4,
 "nbformat_minor": 0
}